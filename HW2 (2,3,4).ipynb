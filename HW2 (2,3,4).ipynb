{
 "cells": [
  {
   "cell_type": "markdown",
   "metadata": {},
   "source": [
    "### (2) list compression을 사용하여 1~100 사이의 수중 3의 배수를 나열하라"
   ]
  },
  {
   "cell_type": "code",
   "execution_count": 1,
   "metadata": {},
   "outputs": [
    {
     "name": "stdout",
     "output_type": "stream",
     "text": [
      "[3, 6, 9, 12, 15, 18, 21, 24, 27, 30, 33, 36, 39, 42, 45, 48, 51, 54, 57, 60, 63, 66, 69, 72, 75, 78, 81, 84, 87, 90, 93, 96, 99]\n"
     ]
    }
   ],
   "source": [
    "a = range(1, 101)\n",
    "result = [n for n in a if n%3==0]\n",
    "print(result)"
   ]
  },
  {
   "cell_type": "markdown",
   "metadata": {},
   "source": [
    "### (3) ids.txt 에 있는 사람들의 데이터만 new_data.txt에 저장하라"
   ]
  },
  {
   "cell_type": "code",
   "execution_count": 13,
   "metadata": {},
   "outputs": [],
   "source": [
    "ids = []\n",
    "with open('data/ids.txt', 'r') as f :\n",
    "    for line in f :\n",
    "        ids.append(line.strip())"
   ]
  },
  {
   "cell_type": "code",
   "execution_count": 14,
   "metadata": {},
   "outputs": [],
   "source": [
    "with open('data/new_data.txt', \"w\") as f:\n",
    "    f.write('ID\\tfield1\\tfield2\\tfield3\\n')\n",
    "    with open('data/data1.txt', \"r\") as data1:\n",
    "        for item in data1: \n",
    "            ID=item.strip().split()[0]\n",
    "            if ID in ids:\n",
    "                f.write(item)\n",
    "    f.write(\"\\n\")            \n",
    "    with open('data/data2.txt', \"r\") as data2:\n",
    "        for item in data2:\n",
    "            ID=item.strip().split()[0]\n",
    "            if ID in ids:\n",
    "                f.write(item)"
   ]
  },
  {
   "cell_type": "markdown",
   "metadata": {},
   "source": [
    "### (4) yield 를 사용한 Generator 를 만드는 연습을 해보기"
   ]
  },
  {
   "cell_type": "code",
   "execution_count": 3,
   "metadata": {},
   "outputs": [],
   "source": [
    "f = 'data/data1.txt'"
   ]
  },
  {
   "cell_type": "code",
   "execution_count": 4,
   "metadata": {},
   "outputs": [],
   "source": [
    "import sys"
   ]
  },
  {
   "cell_type": "code",
   "execution_count": 5,
   "metadata": {},
   "outputs": [],
   "source": [
    "def fgenerator(f, iter_option = 0) :\n",
    "    with open(f, 'r', encoding='utf-8') as f :\n",
    "        for idx, item in enumerate(f) :\n",
    "            ID, V1, V2, V3 = item.strip().split()\n",
    "            if iter_option == 0 :\n",
    "                yield ID\n",
    "            elif iter_option == 1 :\n",
    "                yield V1\n",
    "            elif iter_option == 2 :\n",
    "                yield V2\n",
    "            else :\n",
    "                yield V3\n"
   ]
  },
  {
   "cell_type": "code",
   "execution_count": 6,
   "metadata": {},
   "outputs": [
    {
     "name": "stdout",
     "output_type": "stream",
     "text": [
      "Wall time: 0 ns\n"
     ]
    }
   ],
   "source": [
    "%%time\n",
    "gen_from_file = fgenerator(f)"
   ]
  },
  {
   "cell_type": "code",
   "execution_count": 7,
   "metadata": {},
   "outputs": [
    {
     "data": {
      "text/plain": [
       "'ID'"
      ]
     },
     "execution_count": 7,
     "metadata": {},
     "output_type": "execute_result"
    }
   ],
   "source": [
    "next(gen_from_file)"
   ]
  },
  {
   "cell_type": "code",
   "execution_count": 8,
   "metadata": {},
   "outputs": [
    {
     "data": {
      "text/plain": [
       "120"
      ]
     },
     "execution_count": 8,
     "metadata": {},
     "output_type": "execute_result"
    }
   ],
   "source": [
    "sys.getsizeof(gen_from_file)"
   ]
  },
  {
   "cell_type": "code",
   "execution_count": 9,
   "metadata": {},
   "outputs": [],
   "source": [
    "def freader(f, iter_option = 0) :\n",
    "    IDs = []\n",
    "    with open(f, 'r', encoding='utf-8') as f :\n",
    "        for idx, item in enumerate(f) :\n",
    "            ID, V1, V2, V3 = item.strip().split()\n",
    "            if iter_option == 0 :\n",
    "                IDs.append(ID)\n",
    "            elif iter_option == 1 :\n",
    "                IDs.append(V1)\n",
    "            elif iter_option == 2 :\n",
    "                IDs.append(V2)\n",
    "            else :\n",
    "                IDs.append(V3)\n",
    "    return IDs"
   ]
  },
  {
   "cell_type": "code",
   "execution_count": 10,
   "metadata": {},
   "outputs": [
    {
     "name": "stdout",
     "output_type": "stream",
     "text": [
      "Wall time: 956 µs\n"
     ]
    }
   ],
   "source": [
    "%%time\n",
    "res = freader(f)"
   ]
  },
  {
   "cell_type": "code",
   "execution_count": 11,
   "metadata": {},
   "outputs": [
    {
     "data": {
      "text/plain": [
       "128"
      ]
     },
     "execution_count": 11,
     "metadata": {},
     "output_type": "execute_result"
    }
   ],
   "source": [
    "sys.getsizeof(res)"
   ]
  }
 ],
 "metadata": {
  "kernelspec": {
   "display_name": "Python 3",
   "language": "python",
   "name": "python3"
  },
  "language_info": {
   "codemirror_mode": {
    "name": "ipython",
    "version": 3
   },
   "file_extension": ".py",
   "mimetype": "text/x-python",
   "name": "python",
   "nbconvert_exporter": "python",
   "pygments_lexer": "ipython3",
   "version": "3.7.4"
  }
 },
 "nbformat": 4,
 "nbformat_minor": 2
}
